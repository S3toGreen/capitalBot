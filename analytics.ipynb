{
 "cells": [
  {
   "cell_type": "code",
   "execution_count": null,
   "metadata": {},
   "outputs": [
    {
     "data": {
      "text/plain": [
       "array([('2025-05-13T07:01:00', 21353., 21365., 21345., 21349., 523),\n",
       "       ('2025-05-13T07:02:00', 21349., 21353., 21342., 21344., 219),\n",
       "       ('2025-05-13T07:03:00', 21346., 21358., 21343., 21348., 156), ...,\n",
       "       ('2025-06-24T07:58:00', 21972., 21972., 21968., 21972., 105),\n",
       "       ('2025-06-24T07:59:00', 21973., 21979., 21973., 21978., 108),\n",
       "       ('2025-06-24T08:00:00', 21978., 21980., 21976., 21978.,  59)],\n",
       "      shape=(33049,), dtype=[('time', '<M8[s]'), ('open', '<f4'), ('high', '<f4'), ('low', '<f4'), ('close', '<f4'), ('volume', '<u4')])"
      ]
     },
     "execution_count": 58,
     "metadata": {},
     "output_type": "execute_result"
    }
   ],
   "source": [
    "import pandas as pd\n",
    "import numpy as np\n",
    "import clickhouse_connect\n",
    "from Config import passwd\n",
    "from collections import defaultdict\n",
    "\n",
    "pd.set_option('display.max_rows', 30)\n",
    "pd.set_option('display.max_columns', 15)\n",
    "pd.set_option('display.max_colwidth', None)\n",
    "\n",
    "db = clickhouse_connect.get_client(host='localhost',username='admin',password=passwd,compression=True)\n",
    "\"\"\"\n",
    "08:45 開盤（期貨）\t00:45 UTC\t台指期開始報價，根據國際盤、ADR 預期方向\n",
    "09:00 開盤（現貨）\t01:00 UTC\t現貨開盤，出現真實流動性與方向確認\n",
    "09:30~11:00\t01:30~03:00 UTC\t主動資金進場區，早盤高頻策略與波動放大期\n",
    "11:00~12:30\t03:00~04:30 UTC\t中盤盤整，高低點初步確認，可做 mean-revert\n",
    "13:00~13:30\t05:00~05:30 UTC\t收盤前調倉、現貨權重股尾盤拉抬壓低\n",
    "~15:00 夜盤\t07:00 UTC\t台指夜盤開，根據歐美消息重新定價\n",
    "\n",
    "Estern Time\n",
    "08:00 美期活躍啟動\t12:00 UTC\t    ES/NQ 電子盤流動性上升，對亞洲夜盤有牽引力\n",
    "08:30~09:30\t       12:30~13:30 UTC\t重磅 macro 數據發布(CPI、NFP)時段\n",
    "09:30 開盤（現貨）\t13:30 UTC\t    SPY、QQQ 現貨開市，量能爆發，方向確認\n",
    "09:30~11:00\t       13:30~15:00 UTC\t趨勢發展期，對亞股夜盤牽引力最大\n",
    "14:00~16:00\t       18:00~20:00 UTC\tETF 尾盤 TWAP、大宗基金再平衡、期權對沖\n",
    "16:00 收盤\t       20:00 UTC\t    US 現貨結束，期貨流動性驟降，進入夜間盤整段\n",
    "\n",
    "00:00 ── 美期預測台期開盤\n",
    "00:45 ── 台指期開盤\n",
    "01:00 ── 台灣現貨開盤\n",
    "   │\n",
    "03:00 ── 亞洲午盤前（台股波動段結束）\n",
    "05:30 ── 台股現貨收盤（期貨續盤）\n",
    "07:00 ── 台指夜盤開啟，等待美盤引導\n",
    "   │\n",
    "12:00 ── ES/NQ 開始活躍（影響台指夜盤）\n",
    "13:30 ── SPY 現貨開盤 → 真實方向\n",
    "15:00 ── 美股主升段（影響夜盤大）\n",
    "18:00 ── TWAP 開始 → 尾盤套利出現\n",
    "20:00 ── 美股收盤\n",
    "\n",
    "\n",
    "Domestic:\n",
    "Separate analytic by session. Asia Session: 8:46~13:45, NY Session: 21:31~4:00 \n",
    "consider rest of time low volume (all of them has statistic different)\n",
    "\n",
    "Oversea:\n",
    "Has \"significant\" volume at NY session. (skip rest of time or separate the analytics)\n",
    "do not close app during NY session\n",
    "\"\"\"\n",
    "\n",
    "query_TX=\"\"\"\n",
    "    SELECT *\n",
    "    FROM orderflowDM\n",
    "    WHERE symbol = 'TX00'\n",
    "    AND time>=today()\n",
    "    ORDER BY time \n",
    "\"\"\"\n",
    "query_MTX=\"\"\"\n",
    "    SELECT time, open, high, low, close, volume, delta, trades_delta, price_map\n",
    "    FROM orderflowDM\n",
    "    WHERE symbol = 'MTX00'\n",
    "    ORDER BY time \n",
    "\"\"\"\n",
    "symbol=\"'MTX00'\"\n",
    "q = f\"\"\"\n",
    "    SELECT time,open,high,low,close,volume\n",
    "    FROM orderflowDM\n",
    "    WHERE symbol = {symbol}\n",
    "    ORDER BY time\n",
    "\"\"\"\n",
    "TX_df = db.query_np(q)\n",
    "TX_df\n",
    "# MTX_df:pd.DataFrame = db.query_df(query_MTX).set_index('time')\n",
    "\n",
    "# len(TX_df.index), len(MTX_df.index)\n",
    "# TX_df.to_csv('txfp.csv')\n"
   ]
  },
  {
   "cell_type": "code",
   "execution_count": null,
   "metadata": {},
   "outputs": [
    {
     "data": {
      "text/plain": [
       "<clickhouse_connect.driver.summary.QuerySummary at 0x267222ee660>"
      ]
     },
     "execution_count": 49,
     "metadata": {},
     "output_type": "execute_result"
    }
   ],
   "source": [
    "insert_row=[]\n",
    "\n",
    "data=[pd.Timestamp('2025-06-11 07:01:00-0500', tz='America/Chicago'),'NQ0000', 21931.0, 21935.0, 21928.0, 21934.75, 180, (39, 0, 38), 13, []]\n",
    "data[-1]=[]\n",
    "insert_row.append(tuple(data))\n",
    "insert_row\n",
    "# db.insert('orderflowOS',insert_row)"
   ]
  },
  {
   "cell_type": "code",
   "execution_count": 35,
   "metadata": {},
   "outputs": [
    {
     "data": {
      "text/plain": [
       "DatetimeIndex(['2025-04-25 15:01:00+08:00', '2025-04-25 15:02:00+08:00',\n",
       "               '2025-04-25 15:03:00+08:00', '2025-04-25 15:04:00+08:00',\n",
       "               '2025-04-25 15:08:00+08:00', '2025-04-25 15:09:00+08:00',\n",
       "               '2025-04-25 15:16:00+08:00', '2025-04-25 15:17:00+08:00',\n",
       "               '2025-04-25 15:21:00+08:00', '2025-04-25 15:22:00+08:00',\n",
       "               ...\n",
       "               '2025-04-29 19:10:00+08:00', '2025-04-29 19:11:00+08:00',\n",
       "               '2025-04-29 19:13:00+08:00', '2025-04-29 19:14:00+08:00',\n",
       "               '2025-04-29 19:15:00+08:00', '2025-04-29 19:17:00+08:00',\n",
       "               '2025-04-29 19:19:00+08:00', '2025-04-29 19:23:00+08:00',\n",
       "               '2025-04-29 19:25:00+08:00', '2025-04-29 19:29:00+08:00'],\n",
       "              dtype='datetime64[s, Asia/Taipei]', name='time', length=1032, freq=None)"
      ]
     },
     "execution_count": 35,
     "metadata": {},
     "output_type": "execute_result"
    }
   ],
   "source": [
    "fp=pd.read_csv(\"TX_Tick.csv\").set_index('Time')\n",
    "fp['delta'] = abs(fp['aggBuy']-fp['aggSell'])\n",
    "condition = df['close'] > df['open']\n",
    "\n",
    "condition_met_indices = df[condition].index\n",
    "condition_met_indices\n",
    "\n",
    "n = 5\n",
    "future_closes = np.column_stack([\n",
    "    df['close'].shift(-i) for i in range(1, n + 1)\n",
    "])\n",
    "\n",
    "current_close = df['close'].values.reshape(-1, 1)\n",
    "future_returns = (future_closes - current_close) / current_close\n",
    "\n",
    "# Avg, max, min return, volatility\n",
    "df['avg_return'] = np.nanmean(future_returns, axis=1)\n",
    "df['max_return'] = np.nanmax(future_returns, axis=1)\n",
    "df['min_return'] = np.nanmin(future_returns, axis=1)\n",
    "df['volatility'] = np.nanstd(future_returns, axis=1)\n",
    "\n",
    "def max_drawdown(series):\n",
    "    peak = series[0]\n",
    "    drawdowns = [(price - peak) / peak if price <= peak else (0 if (peak := price) else 0) for price in series]\n",
    "    return min(drawdowns)\n",
    "\n",
    "df['max_drawdown'] = pd.DataFrame(future_closes).apply(max_drawdown, axis=1)\n"
   ]
  },
  {
   "cell_type": "code",
   "execution_count": 85,
   "metadata": {},
   "outputs": [
    {
     "data": {
      "text/plain": [
       "Timestamp('2025-04-30 16:00:00-0500', tz='America/Chicago')"
      ]
     },
     "execution_count": 85,
     "metadata": {},
     "output_type": "execute_result"
    }
   ],
   "source": [
    "last=db.query('select time from orderflowOS order by time desc limit 1').result_rows[0][0]\n",
    "# ts=pd.to_datetime('20250501',format='%Y%m%d').replace(hour=5).tz_localize('Asia/Taipei')\n",
    "# data=[[ts,'tmp',0,0,0,0,0,0,0,{0:(0,0,0)}]]\n",
    "# db.insert('orderflowOS',data)\n",
    "pd.Timestamp(last)"
   ]
  }
 ],
 "metadata": {
  "kernelspec": {
   "display_name": "venv",
   "language": "python",
   "name": "python3"
  },
  "language_info": {
   "codemirror_mode": {
    "name": "ipython",
    "version": 3
   },
   "file_extension": ".py",
   "mimetype": "text/x-python",
   "name": "python",
   "nbconvert_exporter": "python",
   "pygments_lexer": "ipython3",
   "version": "3.13.1"
  }
 },
 "nbformat": 4,
 "nbformat_minor": 2
}
